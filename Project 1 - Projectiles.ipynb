{
 "cells": [
  {
   "cell_type": "markdown",
   "metadata": {},
   "source": [
    "# Fatores adicionais na trajetória de um projétil"
   ]
  },
  {
   "cell_type": "markdown",
   "metadata": {},
   "source": [
    "O estudo da trajetória de um projétil em um campo gravitacional uniforme é uma das primeiras atividades desenvolvidas em cursos de física. Entretanto, nas soluções normalmente apresentadas o modelo recebe diversas simplificações para permitir sua solução analítica.\n",
    "\n",
    "Neste projeto, vamos incluir no modelo alguns fatores normalmente ignorados e verificar seus efeitos sobre a trajetória do projétil."
   ]
  },
  {
   "cell_type": "markdown",
   "metadata": {},
   "source": [
    "### O caso simples"
   ]
  },
  {
   "cell_type": "markdown",
   "metadata": {},
   "source": [
    "Vamos começar com o caso simples em que o campo gravitacional é uniforme, o projétil e pontual e não há nenhum tipo de força externa ou dissipação de energia.\n",
    "\n",
    "Consideramos um sistema positivo de coordenadas $(x, y, z)$ orientados de tal forma que o eixo $z$ está na vertical, com valores crescentes para cima, o plano $z=0$ coincide com o solo e o eixo de $x$ é orientado na direção horizontal do lançamento do projétil. O projétil é lançado inicialmente ($t=0$) da posição $(0, 0, h)$ com velocidade inicial $(v_{x,0}, 0, v_{z,0})$. Queremos então calcular a trajetória do projétil $(x(t), y(t), z(t))$ até que ele retorne para o solo.\n",
    "\n",
    "Se o projétil tem massa $m=1$ e o campo gravitacional apresenta uma aceleração uniforme $-g$ na direção do eixo $z$, as equações de movimento são expressas de forma simple:\n",
    "\n",
    "\\begin{eqnarray}\n",
    "\\frac{d^2x}{dt^2} & = & 0\\\\\n",
    "\\frac{d^2y}{dt^2} & = & 0\\\\\n",
    "\\frac{d^2z}{dt^2} & = & -g\n",
    "\\end{eqnarray}\n",
    "\n",
    "Como essas equações diferenciais são lineares, considerando as condições iniciais dadas, o cálculo da trajetória fica simples:\n",
    "\n",
    "\\begin{eqnarray}\n",
    "x(t) & = & v_{x,0} t \\\\\n",
    "y(t) & = & 0\\\\\n",
    "z(t) & = & h + v_{z,0} t - \\frac{1}{2} g t^2\n",
    "\\end{eqnarray}\n",
    "\n",
    "Isto é: o projétil permanece no plano $y=0$, se desloca uniformemente na direção de $x$ crescente e uniformemente acelerado em $z$. Essas equações são válidas até que o projétil atinja o solo. Isso ocorre quando $z=0$, e portanto podemos encontrar o maior valor de tempo de interesse $T$ resolvendo a equação:\n",
    "\n",
    "$$ h + v_{z,0} T - \\frac{1}{2} g T^2 = 0$$\n",
    "\n",
    "que resulta na solução:\n",
    "\n",
    "$$ T = \\frac{v_{z,0}+\\sqrt{v_{z,0}^2+2 h g}}{g}$$\n",
    "\n",
    "Com essas informações, podemos plotar as componentes da trajetória. Primeiro importamos os módulos necessários e fazemos com que os gráficos fiquem embutidos."
   ]
  },
  {
   "cell_type": "code",
   "execution_count": null,
   "metadata": {},
   "outputs": [],
   "source": [
    "import numpy as np\n",
    "import matplotlib.pyplot as plt\n",
    "%matplotlib inline"
   ]
  },
  {
   "cell_type": "code",
   "execution_count": null,
   "metadata": {},
   "outputs": [],
   "source": [
    "# Função que calcula uma trajetória para o caso simples acima.\n",
    "# Recebe os parâmetros:\n",
    "#   h (altura do lançamento)\n",
    "#   v0 (vetor da velocidade inicial)\n",
    "#   g (aceleração da gravidade)\n",
    "#   nintervalos (número de intervalos de tempo até atingir o solo)\n",
    "# Retorna:\n",
    "#   um array com os instantes de tempo\n",
    "#   um array 2D em que cada linha tem o vetor de posição em um dos instantes de tempo\n",
    "def trajetoria_simples(h, v0, g, nintervalos):\n",
    "    # Extrai as componentes de velocidade\n",
    "    vx0, vy0, vz0 = v0\n",
    "    \n",
    "    # Intervalo de tempo a usar\n",
    "    T = (vz0 + np.sqrt(vz0**2 + 2 * g * h))/g\n",
    "    t = np.linspace(0, T, nintervalos + 1)\n",
    "    \n",
    "    # Trajetória\n",
    "    trajetoria = np.zeros((t.size, 3))\n",
    "    trajetoria[:, 0] = vx0 * t\n",
    "    trajetoria[:, 1] = np.zeros_like(t)\n",
    "    trajetoria[:, 2] = h + vz0 * t - 0.5 * g * t**2\n",
    "    \n",
    "    return t, trajetoria"
   ]
  },
  {
   "cell_type": "code",
   "execution_count": null,
   "metadata": {},
   "outputs": [],
   "source": [
    "# Parâmetros:\n",
    "h = 2\n",
    "v_x0 = 1\n",
    "v_y0 = 0\n",
    "v_z0 = 1\n",
    "g = 9.81\n",
    "\n",
    "# Calcula uma trajetória\n",
    "t, trajetoria = trajetoria_simples(h, (v_x0, v_y0, v_z0), g, 100)\n",
    "# Extraimos as componentes  x, y e z para facilitar nos gráficos\n",
    "x = trajetoria[:, 0]\n",
    "y = trajetoria[:, 1]\n",
    "z = trajetoria[:, 2]\n",
    "\n",
    "# Plota x(t), y(t) e z(t)\n",
    "fig, axarray = plt.subplots(3, 1, sharex=True)\n",
    "fig.set_size_inches(9, 9)\n",
    "axarray[0].plot(t, x)\n",
    "axarray[0].set_ylabel('x')\n",
    "axarray[1].plot(t, y)\n",
    "axarray[1].set_ylabel('y')\n",
    "axarray[2].plot(t, z)\n",
    "axarray[2].set_ylabel('z')\n",
    "axarray[2].set_xlabel('t')\n",
    "plt.show()"
   ]
  },
  {
   "cell_type": "markdown",
   "metadata": {},
   "source": [
    "Mas provavelmente mais interessante é plotar a trajetória no espaço tridimensional. Para isso, usamos o módulo `mplot3d`."
   ]
  },
  {
   "cell_type": "code",
   "execution_count": null,
   "metadata": {},
   "outputs": [],
   "source": [
    "from mpl_toolkits.mplot3d import Axes3D"
   ]
  },
  {
   "cell_type": "code",
   "execution_count": null,
   "metadata": {},
   "outputs": [],
   "source": [
    "fig = plt.figure()\n",
    "ax = fig.gca(projection='3d')\n",
    "ax.plot(x, y, z)\n",
    "plt.show()"
   ]
  },
  {
   "cell_type": "markdown",
   "metadata": {},
   "source": [
    "Neste caso, como a trajetória é bidimensional (restrita ao plano $y=0$) faz mais sentido plotar apenas o plano $x, z$."
   ]
  },
  {
   "cell_type": "code",
   "execution_count": null,
   "metadata": {},
   "outputs": [],
   "source": [
    "plt.plot(x, z)\n",
    "plt.xlabel('x')\n",
    "plt.ylabel('z')\n",
    "plt.show()"
   ]
  },
  {
   "cell_type": "markdown",
   "metadata": {},
   "source": [
    "O próximo passo é simularmos o sistema representado pelas equações diferenciais para comparar o resultado com o analítico apresentado acima. Para isso, como sempre, precisamos converter o sistema de equações em um sistema de equações de primeiro grau, usando o truque tradicional de incluir variáveis para as velocidades. Assim, além das posições $x, y, z$, teremos também as velocidades $u, v, w$, respectivamente, e o conjunto de equações fica:\n",
    "\n",
    "\\begin{eqnarray}\n",
    "\\frac{dx}{dt} & = & u \\\\\n",
    "\\frac{dy}{dt} & = & v \\\\\n",
    "\\frac{dz}{dt} & = & w \\\\\n",
    "\\frac{du}{dt} & = & 0 \\\\\n",
    "\\frac{dv}{dt} & = & 0 \\\\\n",
    "\\frac{dw}{dt} & = & -g \\\\\n",
    "\\end{eqnarray}\n",
    "\n",
    "E agora as condições iniciais são dadas por $(0, 0, h, v_{x,0}, 0, v_{z,0})$.\n",
    "\n",
    "Com isso podemos usar o `odeint` do SciPy para resolver numericamente o sistema de equações."
   ]
  },
  {
   "cell_type": "code",
   "execution_count": null,
   "metadata": {},
   "outputs": [],
   "source": [
    "from scipy.integrate import odeint"
   ]
  },
  {
   "cell_type": "code",
   "execution_count": null,
   "metadata": {},
   "outputs": [],
   "source": [
    "# Função que calcula as derivadas para o estado xyzuvw no instante t\n",
    "def deriv_ideal(xyzuvw, t, g):\n",
    "    x, y, z, u, v, w = xyzuvw\n",
    "    return [u, v, w, 0, 0, -g]\n"
   ]
  },
  {
   "cell_type": "code",
   "execution_count": null,
   "metadata": {},
   "outputs": [],
   "source": [
    "# Usamos os mesmos parâmetros e o mesmo t anteriores\n",
    "iniciais = [0, 0, h, v_x0, v_y0, v_z0]\n",
    "xyzuvw_t = odeint(deriv_ideal, iniciais, t, args=(g,))\n",
    "# Agora extraimos as componentes x, y e z (para faciliar o gráfico)\n",
    "xs = xyzuvw_t[:, 0]\n",
    "ys = xyzuvw_t[:, 1]\n",
    "zs = xyzuvw_t[:, 2]"
   ]
  },
  {
   "cell_type": "markdown",
   "metadata": {},
   "source": [
    "Agora podemos plotar as duas trajetórias simultaneamente para verificar se há diferença."
   ]
  },
  {
   "cell_type": "code",
   "execution_count": null,
   "metadata": {
    "scrolled": true
   },
   "outputs": [],
   "source": [
    "fig = plt.figure()\n",
    "ax = fig.gca(projection='3d')\n",
    "ax.plot(x, y, z, label='Analítica')\n",
    "ax.plot(xs, ys, zs, label='Simulada')\n",
    "ax.legend()\n",
    "plt.show()"
   ]
  },
  {
   "cell_type": "markdown",
   "metadata": {},
   "source": [
    "Ou no plano $(x, z)$:"
   ]
  },
  {
   "cell_type": "code",
   "execution_count": null,
   "metadata": {},
   "outputs": [],
   "source": [
    "plt.plot(x, z, label='Analitica')\n",
    "plt.plot(xs, zs, label='Simulada')\n",
    "plt.xlabel('x')\n",
    "plt.ylabel('z')\n",
    "plt.legend()\n",
    "plt.show()"
   ]
  },
  {
   "cell_type": "markdown",
   "metadata": {},
   "source": [
    "Como vemos, as duas trajetórias estão superpostas, como o esperado.\n",
    "\n",
    "Infelizmente, no código acima fizemos uma trapaça: Usamos o intervalo de tempo calculado considerando a solução analítica, **que não estaria disponível se precisássemos realizar simulações!**\n",
    "\n",
    "Duas formas de lidar com esse problema são:\n",
    "- Simular por um tempo suficientemente grande, depois descartar os valores em que $z<0$.\n",
    "- Simular um passo por vez e terminar quando chegamos em $z\\le 0$.\n",
    "\n",
    "A primeira solução tem a vantagem de porder usar `odeint` e é viável quando temos razão para acreditar que sabemos uma boa aproximação inicial para $T$. Se não temos uma aproximação para $T$, então devemos usar a segunda solução, que infelizmente não pode fazer uso de `odeint`, mas precisamos usar um objeto da classe `ode` e realizar a integração passo a passo, como exemplificado no código abaixo."
   ]
  },
  {
   "cell_type": "code",
   "execution_count": null,
   "metadata": {},
   "outputs": [],
   "source": [
    "# Função de derivadas para a classe ode.\n",
    "# Note a inversão da ordem dos parâmetros t e xyzuvw em relação à outra derivada!\n",
    "def deriv_ideal_2(t, xyzuvw, g): \n",
    "    x, y, z, u, v, w = xyzuvw\n",
    "    return [u, v, w, 0, 0, -g]"
   ]
  },
  {
   "cell_type": "markdown",
   "metadata": {},
   "source": [
    "Precisamos importar a classe `ode`."
   ]
  },
  {
   "cell_type": "code",
   "execution_count": null,
   "metadata": {},
   "outputs": [],
   "source": [
    "from scipy.integrate import ode"
   ]
  },
  {
   "cell_type": "code",
   "execution_count": null,
   "metadata": {},
   "outputs": [],
   "source": [
    "# Especificamos o tempo inicial e o intervalo entre instantes sucessivos\n",
    "t0 = 0\n",
    "delta_t = 0.01\n",
    "\n",
    "# Criamos um objeto da classe ode associado à função correta de derivadas\n",
    "r = ode(deriv_ideal_2)\n",
    "\n",
    "# Ajustamos os dados do sistema simulado nesse objeto\n",
    "r.set_initial_value(iniciais, t0) # Indica as condições inicias e instante inicial\n",
    "r.set_f_params(g) # Passa parâmetro adicinonal da função de derivadas\n",
    "\n",
    "# Agora fazemos a simulação\n",
    "t2 = [t0] # Cria uma lista para guardar os instantes de tempo\n",
    "xyzuvw_t2 = [iniciais] # Cria uma lista para guardar estados\n",
    "last_z = h # Posição z onde o projétil está atualmente\n",
    "while r.successful() and last_z > 0: # r.successful() verifica que a integração deu certo\n",
    "    new_t = r.t + delta_t\n",
    "    t2.append(new_t) # Adiciona novo instante de tempo na lista\n",
    "    new_xyzuvw = r.integrate(new_t) # Calcula novo estado\n",
    "    xyzuvw_t2.append(new_xyzuvw) # Adiciona na lista de estados\n",
    "    last_z = new_xyzuvw[2] # Verifica o valor de z atual\n",
    "    \n",
    "# Extraimos os componentes x, y e z\n",
    "xyzuvw_t2 = np.array(xyzuvw_t2) # Converte para array para indexação\n",
    "xs2 = xyzuvw_t2[:, 0]\n",
    "ys2 = xyzuvw_t2[:, 1]\n",
    "zs2 = xyzuvw_t2[:, 2]"
   ]
  },
  {
   "cell_type": "code",
   "execution_count": null,
   "metadata": {},
   "outputs": [],
   "source": [
    "fig = plt.figure()\n",
    "ax = fig.gca(projection='3d')\n",
    "ax.plot(x, y, z, label='Analítica')\n",
    "ax.plot(xs2, ys2, zs2, label='Simulada')\n",
    "ax.legend()\n",
    "plt.show()"
   ]
  },
  {
   "cell_type": "markdown",
   "metadata": {},
   "source": [
    "Por curiosidade, vejamos se os dois sistemas estão sendo simulados no mesmo intervalo de tempo:"
   ]
  },
  {
   "cell_type": "code",
   "execution_count": null,
   "metadata": {},
   "outputs": [],
   "source": [
    "print('O valor de T é', t[-1])\n",
    "print('O sistema foi simulado até', t2[-1])\n",
    "print('A diferença é de', t2[-1] - t[-1])\n",
    "print('Compare isso com o incremento de tempo escolhido de', delta_t)"
   ]
  },
  {
   "cell_type": "markdown",
   "metadata": {},
   "source": [
    "**Nota:** Todos os casos acima são estritamente bidimensionais, e poderiam ser simulados bidimensionalmente no plano $xz$. Entretanto, deixamos o caso geral para mostrar como lidar com ele tanto na simulação como nos gráficos."
   ]
  },
  {
   "cell_type": "markdown",
   "metadata": {},
   "source": [
    "### Trajetória de uma bala de canhão: Resistência do ar"
   ]
  },
  {
   "cell_type": "markdown",
   "metadata": {},
   "source": [
    "Vamos agora considerar a trajetória de uma bala de canhão. Como seu tamanho não é desprezível e sua velocidade é alta, o primeiro elemento a incluir é a resistência do ar. Considerando as altas velocidades envolvidas, o elemento quadrático da resistência do ar é dominante, e sua expressão é:\n",
    "\n",
    "$$R = B v^2,$$\n",
    "\n",
    "onde $R$ é o módulo da força de resistência do ar, $B$ é uma constante que depende do projétil e $v$ é o módulo da velocidade $v = \\sqrt{v_x^2+v_y^2+v_z^2}$. Como a resistência do ar é contrária ao movimento, devemos projetar seus componentes em cada uma das direções de acordo com os componentes da velocidade em cada direção:\n",
    "\n",
    "\\begin{eqnarray}\n",
    "R_x & = & - B v v_x\\\\\n",
    "R_y & = & - B v v_y\\\\\n",
    "R_z & = & - B v v_z\n",
    "\\end{eqnarray}\n",
    "\n",
    "Adicione esses componentes nas equações e simule o sistema com os seguintes parâmetros:\n",
    "- $B/m=4\\cdot10^{-5}$\n",
    "- A velocidade inicial tem sempre módulo $700m/s$, mas faz um ângulo $\\theta$ em relação à horizontal.\n",
    "- O projétil é lançado de $(0,0,0)$.\n",
    "\n",
    "Simule para alguns valores de $\\theta$ e compare com o resultado analítico:\n",
    "- O quanto o alcance do tiro é afetado pela resistência do ar?\n",
    "- O alcance máximo acontece com um ângulo de 45°, como no caso ideal?"
   ]
  },
  {
   "cell_type": "code",
   "execution_count": 12,
   "metadata": {},
   "outputs": [
    {
     "data": {
      "image/png": "[encoded data removed]",
      "text/plain": [
       "<Figure size 432x288 with 1 Axes>"
      ]
     },
     "metadata": {},
     "output_type": "display_data"
    }
   ],
   "source": [
    "from scipy.integrate import ode\n",
    "import numpy as np\n",
    "import matplotlib.pyplot as plt\n",
    "\n",
    "# ---------- FUNÇÕES -------------\n",
    "\n",
    "# - Função Módulo\n",
    "\n",
    "def modV(u,v,w):\n",
    "    return (u**2+v**2+w**2)**0.5\n",
    "\n",
    "# - Função de Estado\n",
    "\n",
    "def deriv_ideal_2(t, xyzuvw,g,bm): \n",
    "    x, y, z, u, v, w = xyzuvw\n",
    "  \n",
    "    return [u,v,w,-bm*modV(u,v,w)*u,-bm*modV(u,v,w)*v , -g - bm*modV(u,v,w)*w]\n",
    "\n",
    "# - Função resultado Análitica\n",
    "\n",
    "def func_analitica(g, nintervalos,thet):\n",
    "    vz0 = 700*np.cos(thet)\n",
    "    vx0 = 700*np.sin(thet)\n",
    "    T = (vz0 + np.sqrt(vz0**2 + 2 * g *0.1 ))/g\n",
    "    t = np.linspace(0, T, nintervalos + 1)\n",
    "    trajetoria = np.zeros((t.size, 3))\n",
    "    trajetoria[:, 0] = vx0 * t\n",
    "    trajetoria[:, 1] = np.zeros_like(t)\n",
    "    trajetoria[:, 2] = 0.1 + vz0 * t - 0.5 * g * t**2\n",
    "    \n",
    "    return t, trajetoria\n",
    "\n",
    "##################################################################\n",
    "# ------- condições iniciais do programa -----------\n",
    "\n",
    "t0 = 0\n",
    "delta_t = 0.01\n",
    "bm = 0.00004\n",
    "g = 9.8\n",
    "theta = np.pi/4\n",
    "cond_iniciais = [0,0,0.1,700*np.sin(theta),0,700*np.cos(theta)]\n",
    "list_angles = []\n",
    "list_x = []\n",
    "\n",
    "# -------------- Inicio -----------------\n",
    "r = ode(deriv_ideal_2)\n",
    "r.set_initial_value(cond_iniciais,t0)\n",
    "r.set_f_params(g,bm)\n",
    "\n",
    "list_tempos = [t0]\n",
    "list_estados = [cond_iniciais]\n",
    "last_z = 1\n",
    "while(last_z > 0 and r.successful()):\n",
    "    novo_t = r.t + delta_t\n",
    "    list_tempos.append(novo_t)\n",
    "    xyzuvw = r.integrate(novo_t)\n",
    "    list_estados.append(xyzuvw)\n",
    "    last_z = xyzuvw[2]\n",
    "    lastx = xyzuvw[0]\n",
    "    \n",
    "list_estados = np.array(list_estados) \n",
    "xs1 = list_estados[:, 0]\n",
    "ys1 = list_estados[:, 1]\n",
    "zs1 = list_estados[:, 2]\n",
    "\n",
    "# --------------- plot ----------------\n",
    "t, trajetoria = func_analitica(9.8,100,np.pi/4)\n",
    "plt.plot(trajetoria[:,0],trajetoria[:,2],label ='Analitica')\n",
    "plt.plot(xs1,zs1,label = 'Experimental')\n",
    "plt.plot()\n",
    "plt.show()"
   ]
  },
  {
   "cell_type": "markdown",
   "metadata": {},
   "source": [
    "### Trajetória de uma bala de canhão: Variação da densidade do ar"
   ]
  },
  {
   "cell_type": "markdown",
   "metadata": {},
   "source": [
    "Você deve ter notado que o projétil chega a grandes altitudes antes de cair novamente no solo. Isso significa que existe a possibilidade de que variações na densidade do ar tenham efeitos importantes, principalmente considerando que o coeficiente $B$ depende da densidade do ar.\n",
    "\n",
    "Para considerar isso, usaremos a aproximação adiabática para a densidade do ar (livro de Giordano e Nakanishi):\n",
    "\n",
    "$$\\rho = \\rho_0 \\left( 1 - \\frac{a z}{T_0}\\right)^\\alpha,$$\n",
    "\n",
    "onde $a \\approx 6.5\\cdot10^{-3}K/m$, $T_0$ é a temperatura ao nível do mar (em Kelvin), que faremos igual a 296.15, $\\alpha\\approx 2.5$ e $\\rho_0$ é a densidade a nivel do mar (que é o nosso $z=0$). A resistência do ar é proporcional à densidade do ar, portanto para levar esse efeito em consideração basta substituirmos o módulo da resistência por:\n",
    "\n",
    "$$\\hat{R} = \\frac{\\rho}{\\rho_0}R = \\left( 1 - \\frac{a z}{T_0}\\right)^\\alpha B v^2$$.\n",
    "\n",
    "Faça as alterações necessárias nas equações, simule o sistema e compare os resultados tanto com o modelo sem variação de densidade do ar quanto com o modelo sem resistência do ar."
   ]
  },
  {
   "cell_type": "code",
   "execution_count": 35,
   "metadata": {},
   "outputs": [
    {
     "data": {
      "text/plain": [
       "[]"
      ]
     },
     "execution_count": 35,
     "metadata": {},
     "output_type": "execute_result"
    },
    {
     "data": {
      "image/png": "[encoded data removed]",
      "text/plain": [
       "<Figure size 432x288 with 1 Axes>"
      ]
     },
     "metadata": {},
     "output_type": "display_data"
    }
   ],
   "source": [
    "from scipy.integrate import ode\n",
    "import numpy as np\n",
    "import matplotlib.pyplot as plt\n",
    "\n",
    "t0 = 0\n",
    "delta_t = 0.01\n",
    "bm = 0.00004\n",
    "g = 9.8\n",
    "a = 5.5*10**(-3)\n",
    "alfa = 2.5\n",
    "T_0 = 330\n",
    "theta0 = np.pi / 4\n",
    "\n",
    "list_angles = []\n",
    "list_x = []\n",
    "\n",
    "def modV(u,v,w):\n",
    "    return (u**2+v**2+w**2)**0.5\n",
    "def adiabatica(a,alfa,z,T_0):\n",
    "    return (1-a*z/T_0)**alfa\n",
    "def theta(theta0):\n",
    "    return theta0\n",
    "def deriv_ideal_2(t, xyzuvw,g,bm,a,alfa,T_0): \n",
    "    x, y, z, u, v, w = xyzuvw\n",
    "   \n",
    "    return [u,v,w,-bm*adiabatica(a,alfa,z,T_0)*modV(u,v,w)*u,-bm*adiabatica(a,alfa,z,T_0)*modV(u,v,w)*v , -g - bm*adiabatica(a,alfa,z,T_0)*modV(u,v,w)*w]\n",
    "\n",
    "\n",
    "\n",
    "cond_iniciais = [0,0,0.1,700*np.sin(theta(theta0)),0,700*np.cos(theta(theta0))]\n",
    "r = ode(deriv_ideal_2)\n",
    "r.set_initial_value(cond_iniciais,t0)\n",
    "r.set_f_params(g,bm,a,alfa,T_0)\n",
    "\n",
    "list_tempos = [t0]\n",
    "list_estados = [cond_iniciais]\n",
    "last_z = 1\n",
    "\n",
    "while(last_z > 0 and r.successful()):\n",
    "    novo_t = r.t + delta_t\n",
    "    list_tempos.append(novo_t)\n",
    "    xyzuvw = r.integrate(novo_t)\n",
    "    list_estados.append(xyzuvw)\n",
    "    last_z = xyzuvw[2]\n",
    "    lastx = xyzuvw[0]\n",
    "    \n",
    "list_estados = np.array(list_estados) # Converte para array para indexação\n",
    "xs2 = list_estados[:, 0]\n",
    "ys2 = list_estados[:, 1]\n",
    "zs2 = list_estados[:, 2]\n",
    "plt.plot(xs2,zs2)\n",
    "plt.plot(xs1,zs1)\n",
    "plt.plot(trajetoria[:,0],trajetoria[:,2],label ='Analitica')\n",
    "plt.plot()"
   ]
  },
  {
   "cell_type": "code",
   "execution_count": 15,
   "metadata": {},
   "outputs": [],
   "source": []
  },
  {
   "cell_type": "code",
   "execution_count": null,
   "metadata": {},
   "outputs": [],
   "source": []
  },
  {
   "cell_type": "markdown",
   "metadata": {},
   "source": [
    "### Trajetória de uma bola de baseball"
   ]
  },
  {
   "cell_type": "markdown",
   "metadata": {},
   "source": [
    "No livro de Giordano e Nakanishi, seção 2.3, existe uma discussão onde se mostra que o coeficiente de resistência do ar não é constante, mas depende da velocidade da bola, o que é importante considerando as velocidades típicas de bolas de baseball. Usaremos a expressão experimental da equação 2.6 desse livro, reproduzida abaixo, para calcular a trajetória da bola de baseball.\n",
    "\n",
    "$$ \\frac{B}{m} = 0.0039 + \\frac{0.0058}{1 + \\exp \\left[(v - v_d)/\\Delta\\right]},$$\n",
    "\n",
    "onde $v_d=35m/s$, $\\Delta = 5m/s$ e tudo está em unidade SI.\n",
    "\n",
    "Reescreva as equações para levar em conta esse efeito. Além disso:\n",
    "- Despreze variações de densidade (pois a bola nunca sobe muito).\n",
    "- Considere que a bola é lançada de $(0,0,1)$ com velocidade de $50 m/s$ e ângulo $\\theta=35°$.\n",
    "- Compare o resultado com o movimento no vácuo e com o movimento no ar mas desprezando a variação de $B/m$ (isto é, use o valor de $B/m$ para $v$ muito pequeno)."
   ]
  },
  {
   "cell_type": "code",
   "execution_count": 47,
   "metadata": {},
   "outputs": [
    {
     "data": {
      "image/png": "[encoded data removed]",
      "text/plain": [
       "<Figure size 432x288 with 1 Axes>"
      ]
     },
     "metadata": {},
     "output_type": "display_data"
    }
   ],
   "source": [
    "from scipy.integrate import ode\n",
    "import numpy as np\n",
    "import matplotlib.pyplot as plt\n",
    "# - Função Módulo\n",
    "\n",
    "def modV(u,v,w):\n",
    "    return (u**2+v**2+w**2)**0.5\n",
    "\n",
    "def bm(v_bm,vd,delta):\n",
    "    return (3.9*10**(-3) + 5.8*10**(-3)/(1+np.exp((v_bm-vd)/delta)))\n",
    "\n",
    "# - Função de Estado\n",
    "\n",
    "def deriv_ideal_2(t, xyzuvw, g , bm , v_bm , vd , delta): \n",
    "    x, y, z, u, v, w = xyzuvw\n",
    "  \n",
    "    return [u,v,w,-bm(v_bm,vd,delta)*modV(u,v,w)*u,-bm(v_bm,vd,delta)*modV(u,v,w)*v , -g - bm(v_bm,vd,delta)*modV(u,v,w)*w]\n",
    "\n",
    "##################################################################\n",
    "# ------- condições iniciais do programa -----------\n",
    "\n",
    "t0 = 0\n",
    "delta_t = 0.01\n",
    "g = 9.8\n",
    "theta = 35*np.pi/180\n",
    "v_bm = 10\n",
    "vd = 35\n",
    "delta = 5\n",
    "\n",
    "cond_iniciais = [0,0,1,50*np.sin(theta),0,50*np.cos(theta)]\n",
    "\n",
    "list_angles = []\n",
    "list_x = []\n",
    "\n",
    "# -------------- Inicio -----------------\n",
    "r = ode(deriv_ideal_2)\n",
    "r.set_initial_value(cond_iniciais,t0)\n",
    "r.set_f_params(g,bm,v_bm,vd,delta)\n",
    "\n",
    "list_tempos = [t0]\n",
    "list_estados = [cond_iniciais]\n",
    "last_z = 1\n",
    "\n",
    "while(last_z > 0 and r.successful()):\n",
    "    novo_t = r.t + delta_t\n",
    "    list_tempos.append(novo_t)\n",
    "    xyzuvw = r.integrate(novo_t)\n",
    "    list_estados.append(xyzuvw)\n",
    "    last_z = xyzuvw[2]\n",
    "    lastx = xyzuvw[0]\n",
    "    \n",
    "list_estados = np.array(list_estados)\n",
    "xs3 = list_estados[:, 0]\n",
    "ys3 = list_estados[:, 1]\n",
    "zs3 = list_estados[:, 2]\n",
    "\n",
    "# ----- Solucao Analitica -----\n",
    "times = np.linspace(0,2,100)\n",
    "traj_analiticax = [50*np.cos(theta)*i for i in times]\n",
    "traj_analiticaz = [50*np.sin(theta)*i for i in times]\n",
    "traj_analiticax = np.array(traj_analiticax)\n",
    "traj_analiticaz = np.array(traj_analiticaz)\n",
    "# --------------- plot ----------------\n",
    "#t, trajetoria = func_analitica(9.8,100,np.pi/4)\n",
    "#plt.plot(trajetoria[:,0],trajetoria[:,2])\n",
    "plt.plot(xs3,zs3)\n",
    "#plt.plot(traj_Analitica[:,0],traj_Analitica[:,1])\n",
    "plt.plot(traj_analiticax,traj_analiticaz)\n",
    "plt.show()"
   ]
  },
  {
   "cell_type": "code",
   "execution_count": null,
   "metadata": {},
   "outputs": [],
   "source": []
  }
 ],
 "metadata": {
  "kernelspec": {
   "display_name": "Python 3",
   "language": "python",
   "name": "python3"
  },
  "language_info": {
   "codemirror_mode": {
    "name": "ipython",
    "version": 3
   },
   "file_extension": ".py",
   "mimetype": "text/x-python",
   "name": "python",
   "nbconvert_exporter": "python",
   "pygments_lexer": "ipython3",
   "version": "3.7.3"
  }
 },
 "nbformat": 4,
 "nbformat_minor": 2
}
