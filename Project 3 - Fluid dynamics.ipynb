{
 "cells": [
  {
   "cell_type": "code",
   "execution_count": 871,
   "metadata": {},
   "outputs": [],
   "source": [
    "# Variaveis iniciais\n",
    "\n",
    "## dimensoes grade\n",
    "Nl = 550\n",
    "Nc = 350\n",
    "\n",
    "## dimensoes obstaculo\n",
    "nl = 60\n",
    "nc = 70\n",
    "d = 115\n",
    "## velocidade na direção x positiva\n",
    "V0 = 1\n",
    "\n",
    "# indice de interação\n",
    "h = 1\n",
    "\n",
    "\n"
   ]
  },
  {
   "cell_type": "markdown",
   "metadata": {},
   "source": [
    "Primeiramente é feita a declaração de algumas variaveis importantes do problema."
   ]
  },
  {
   "cell_type": "code",
   "execution_count": 872,
   "metadata": {},
   "outputs": [],
   "source": [
    "import matplotlib.pyplot as plt\n",
    "import numpy as np"
   ]
  },
  {
   "cell_type": "code",
   "execution_count": 873,
   "metadata": {},
   "outputs": [],
   "source": [
    "#Criando as matrizes do Problema\n",
    "## GRADE\n",
    "\n",
    "array_ones = [1 for i in range(Nl*Nc)]\n",
    "\n",
    "matriz_ones = np.reshape(array_ones,(Nl,Nc))\n"
   ]
  },
  {
   "cell_type": "markdown",
   "metadata": {},
   "source": [
    "Declaração das matrizes que serão feitos as malhas."
   ]
  },
  {
   "cell_type": "code",
   "execution_count": 874,
   "metadata": {},
   "outputs": [],
   "source": [
    "#Contorno da grade\n",
    "\n",
    "def Contorno(phi,ksi):\n",
    "    phi[0][:] = 0\n",
    "    ksi[0][:] = 0\n",
    "    phi[:,0] = phi[:,1]\n",
    "    ksi[:,0] = ksi[:,1]\n",
    "    phi[Nl-1,:] = phi[Nl-2,:]\n",
    "    phi[:,Nc-1] = phi[:,Nc-2]\n",
    "    ksi[:,Nc-1] = ksi[:,Nc-2] \n",
    "    ksi[Nl-1,:] = ksi[Nl-2,:]"
   ]
  },
  {
   "cell_type": "markdown",
   "metadata": {},
   "source": [
    "Condições de contorno do problema, somente das malhas primeiramente."
   ]
  },
  {
   "cell_type": "code",
   "execution_count": 875,
   "metadata": {},
   "outputs": [],
   "source": [
    "# Matriz KSI\n",
    "\n",
    "ksi = matriz_ones * 0\n",
    "\n",
    "# PHI\n",
    "\n",
    "phi = matriz_ones\n"
   ]
  },
  {
   "cell_type": "code",
   "execution_count": 876,
   "metadata": {},
   "outputs": [],
   "source": [
    "# INICIALIZANDO PHI\n",
    "\n",
    "def inicializa_phi(phi):    \n",
    "    new_phi = matriz_ones\n",
    "    for i in range(Nl-1):\n",
    "        for j in range(Nc-1):\n",
    "            new_phi[i][j] = i\n",
    "    Contorno(new_phi,ksi)\n",
    "    return new_phi"
   ]
  },
  {
   "cell_type": "markdown",
   "metadata": {},
   "source": [
    "Iniciando as duas matrizes que serão utilizadas, $\\phi_{i,j}$ e $\\psi_{i,j}$"
   ]
  },
  {
   "cell_type": "code",
   "execution_count": 877,
   "metadata": {},
   "outputs": [],
   "source": [
    "#Calcula PHI\n",
    "\n",
    "def calcula_new_phi(phi,ksi):\n",
    "    new_phi = phi\n",
    "    old_phi = phi\n",
    "    Contorno(phi,ksi)\n",
    "    #for i in range(1,Nl-1):\n",
    "     #   for j in range(1,Nc-1):\n",
    "      #      new_phi[i][j] = 0.25*(phi[i+1][j]+phi[i+1][j]+phi[i][j+1]+phi[i][j-1] - ksi[i][j])\n",
    "    new_phi = 0.25*(np.roll(phi,-1,axis = 0) +np.roll(phi,1,axis = 0) + np.roll(phi,-1,axis = 1) + np.roll(phi,1,axis = 1) - ksi)\n",
    "    return new_phi,old_phi"
   ]
  },
  {
   "cell_type": "code",
   "execution_count": 878,
   "metadata": {},
   "outputs": [],
   "source": [
    "#Calcula KSI\n",
    "def calcula_new_KSI(phi,ksi):\n",
    "    new_ksi = ksi\n",
    "    Qsi1 = ksi\n",
    "    Qsi2 = ksi\n",
    "    Qsi3 = ksi\n",
    "    \n",
    "    #utilizando loop for\n",
    "    #for i in range(1,Nl-1):\n",
    "     #   for j in range(1,Nc-1):\n",
    "      #      new_ksi[i][j] = 0.25 *( ksi[i+1][j] + ksi[i-1][j] + ksi[i][j+1] + ksi[i][j-1] - R/4*(((phi[i][j+1] - phi[i][j-1])*(ksi[i+1][j]-ksi[i-1][j]) ) - ((phi[i+1][j] - phi[i-1][j])*(ksi[i][j+1]-ksi[i][j-1]))))\n",
    "    \n",
    "    \n",
    "    #Utilizando np.roll()\n",
    "    Qsi1 = (np.roll(ksi,-1,axis = 0) + np.roll(ksi,1,axis = 0) + np.roll(ksi,-1,axis = 1) + np.roll(ksi,1,axis = 1))\n",
    "    Qsi2 = (np.roll(phi,-1,axis = 1) - np.roll(phi,1,axis = 1))* (np.roll(ksi,1,axis = 0) - np.roll(ksi,-1,axis = 0))\n",
    "    Qsi3 = (np.roll(phi,1,axis = 0) - np.roll(phi,-1,axis = 0))* (np.roll(ksi,1,axis = 1) - np.roll(ksi,-1,axis = 1))\n",
    "    new_phi = 0.25*(Qsi1 -  R/4 * (Qsi2-Qsi3))\n",
    "    return new_ksi"
   ]
  },
  {
   "cell_type": "markdown",
   "metadata": {},
   "source": [
    "Funções para calcular as duas matrizes de acordo com as iterações necessárias para atingir a precisão da simulação."
   ]
  },
  {
   "cell_type": "code",
   "execution_count": 879,
   "metadata": {},
   "outputs": [],
   "source": [
    "# Função para verificar convergencia \n",
    "def Convengencia(phi_novo,phi_old):\n",
    "    w = 0.5\n",
    "    #erro = 0.1\n",
    "    aux = 0\n",
    "    aux = np.amax(np.absolute(phi_novo) - np.absolute(phi_old))\n",
    "    \n",
    "    #for i in range(Nl):\n",
    "     #   for j in range(Nc):\n",
    "      #      if((1-w)*phi_novo[i][j] + w*phi_old[i][j] < erro):\n",
    "       #         aux += 1\n",
    "    return aux"
   ]
  },
  {
   "cell_type": "code",
   "execution_count": 880,
   "metadata": {},
   "outputs": [],
   "source": [
    "def inclui_obstaculos(phi):\n",
    "        new_phi_obstaculo = phi\n",
    "        for i in range(nl):\n",
    "            for j in range(d,d+nc):\n",
    "                new_phi_obstaculo[i][j] = 0\n",
    "        \n",
    "        new_phi_obstaculo[i][d-1] = 2*phi[i][d-2]    \n",
    "        new_phi_obstaculo[nl][j] = 2*phi[nl][j+1]\n",
    "        new_phi_obstaculo[i][d+nc] = 2*phi[i][d+nc]\n",
    "        return new_phi_obstaculo"
   ]
  },
  {
   "cell_type": "code",
   "execution_count": 881,
   "metadata": {},
   "outputs": [],
   "source": [
    "def plot_resultado(phi):\n",
    "    '''np.rot90(phi,0,axes=(1,0))'''\n",
    "    #phi2 = np.rot90(  phi,0,axes = (1,0) )\n",
    "    #phi = np.concatenate((phi,phi2),axis = 0)\n",
    "    plt.pcolor(phi)\n",
    "    \n",
    "    plt.show()"
   ]
  },
  {
   "cell_type": "code",
   "execution_count": 882,
   "metadata": {
    "scrolled": true
   },
   "outputs": [
    {
     "data": {
      "image/png": "[encoded data removed]",
      "text/plain": [
       "<Figure size 432x288 with 1 Axes>"
      ]
     },
     "metadata": {},
     "output_type": "display_data"
    }
   ],
   "source": [
    "# numero de Reynalds\n",
    "R = 4\n",
    "new_phi = inicializa_phi(phi)\n",
    "aux = 0\n",
    "a=0\n",
    "#auxiliar para verificar convergencia\n",
    "erro = 0.002\n",
    "while(a <55):\n",
    "    \n",
    "    new_phi = inclui_obstaculos(new_phi)\n",
    "    ksi = calcula_new_KSI(new_phi,ksi)\n",
    "    new_phi,old_phi = calcula_new_phi(new_phi,ksi)\n",
    "    \n",
    "    aux = Convengencia(new_phi,old_phi)\n",
    "    a+= 1 \n",
    "   \n",
    "plt.title(\"R = 4\")\n",
    "plot_resultado(new_phi)"
   ]
  },
  {
   "cell_type": "code",
   "execution_count": null,
   "metadata": {},
   "outputs": [],
   "source": []
  },
  {
   "cell_type": "code",
   "execution_count": 883,
   "metadata": {},
   "outputs": [
    {
     "data": {
      "image/png": "[encoded data removed]",
      "text/plain": [
       "<Figure size 432x288 with 1 Axes>"
      ]
     },
     "metadata": {},
     "output_type": "display_data"
    }
   ],
   "source": [
    "R = 0.5\n",
    "new_phi = inicializa_phi(phi)\n",
    "aux = 0\n",
    "a=0\n",
    "#auxiliar para verificar convergencia\n",
    "erro = 0.002\n",
    "while(a <58):\n",
    "    \n",
    "    new_phi = inclui_obstaculos(new_phi)\n",
    "    ksi = calcula_new_KSI(new_phi,ksi)\n",
    "    new_phi,old_phi = calcula_new_phi(new_phi,ksi)\n",
    "    \n",
    "    aux = Convengencia(new_phi,old_phi)\n",
    "    a+= 1 \n",
    "    \n",
    "plt.title(\"R = 0.5\")\n",
    "plot_resultado(new_phi)"
   ]
  },
  {
   "cell_type": "markdown",
   "metadata": {},
   "source": [
    "O campo representa o movimento de um fluido,com uma velocidade inicial Vo = 1m/s,movendo-se laminarmente . Com um obstáculo no centro da malha, os campos retratam o movimento e a proporsão da velocidade do fluido."
   ]
  },
  {
   "cell_type": "code",
   "execution_count": null,
   "metadata": {},
   "outputs": [],
   "source": []
  },
  {
   "cell_type": "code",
   "execution_count": null,
   "metadata": {},
   "outputs": [],
   "source": []
  }
 ],
 "metadata": {
  "kernelspec": {
   "display_name": "Python 3",
   "language": "python",
   "name": "python3"
  },
  "language_info": {
   "codemirror_mode": {
    "name": "ipython",
    "version": 3
   },
   "file_extension": ".py",
   "mimetype": "text/x-python",
   "name": "python",
   "nbconvert_exporter": "python",
   "pygments_lexer": "ipython3",
   "version": "3.6.4"
  }
 },
 "nbformat": 4,
 "nbformat_minor": 2
}
